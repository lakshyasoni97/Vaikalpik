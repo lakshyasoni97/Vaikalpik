{
 "cells": [
  {
   "cell_type": "code",
   "execution_count": 1,
   "metadata": {},
   "outputs": [],
   "source": [
    "'''\n",
    "this function scrapes the website of oreilly to get the table of contents for a particular book\n",
    "'''\n",
    "import requests\n",
    "from bs4 import BeautifulSoup\n",
    "import json\n",
    "import os\n",
    "\n",
    "def get_table_of_contents(soup, level=1):\n",
    "    data = []\n",
    "    table = soup.findAll('li', attrs={'class': f'toc-level-{level} t-toc-level-{level}'})\n",
    "    for item in table:\n",
    "        title = item.a.text.strip()\n",
    "        subitems = get_table_of_contents(item, level + 1)\n",
    "        data.append({ title:subitems})\n",
    "    return data"
   ]
  },
  {
   "cell_type": "code",
   "execution_count": null,
   "metadata": {},
   "outputs": [],
   "source": [
    "statistics_and_probability = ['https://learning.oreilly.com/library/view/-/9781118501696/',\n",
    "        'https://learning.oreilly.com/library/view/-/9780470053041/',\n",
    "        'https://learning.oreilly.com/library/view/-/9780470400937/',\n",
    "        'https://learning.oreilly.com/library/view/-/9781439875919/',\n",
    "        'https://learning.oreilly.com/library/view/-/9781119300816/']\n",
    "linear_algebra = ['https://learning.oreilly.com/videos/-/9780137398119/',\n",
    "                  'https://learning.oreilly.com/library/view/-/9781098120603/',\n",
    "                  'https://learning.oreilly.com/library/view/-/9780136745495/',\n",
    "                  'https://learning.oreilly.com/library/view/-/9781466579569/',\n",
    "                  'https://learning.oreilly.com/library/view/-/9781482248241/']\n",
    "calculus = ['https://learning.oreilly.com/library/view/-/9781119743194/',\n",
    "            'https://learning.oreilly.com/library/view/-/9781098107628/',\n",
    "            'https://learning.oreilly.com/library/view/-/9781118791332/',\n",
    "            'https://learning.oreilly.com/library/view/-/9781119541202/']     \n",
    "data_structures_and_algorithms = ['https://learning.oreilly.com/library/view/-/9781118290279/',\n",
    "                                  'https://learning.oreilly.com/library/view/-/9781789618501/',\n",
    "                                  'https://learning.oreilly.com/library/view/-/9781617298035/',\n",
    "                                  'https://learning.oreilly.com/library/view/-/9781785888731/']\n",
    "python = ['https://learning.oreilly.com/videos/-/9781803246680/',\n",
    "          'https://learning.oreilly.com/library/view/-/9780137155149/',\n",
    "          'https://learning.oreilly.com/library/view/-/9781484244333/',\n",
    "          'https://learning.oreilly.com/library/view/-/9781680508635/']\n",
    "responsible_ai = ['https://learning.oreilly.com/library/view/-/9781800208131/',\n",
    "                  'https://learning.oreilly.com/library/view/-/9781119785323/',\n",
    "                  'https://learning.oreilly.com/library/view/-/9781482226669/',\n",
    "                  'https://learning.oreilly.com/library/view/-/9781492072652/',\n",
    "                  'https://learning.oreilly.com/library/view/-/9781800203907/']               \n",
    "                                                                                \n",
    "subjects = [statistics_and_probability, linear_algebra, calculus, data_structures_and_algorithms, python, responsible_ai] "
   ]
  },
  {
   "cell_type": "code",
   "execution_count": 5,
   "metadata": {},
   "outputs": [
    {
     "ename": "FeatureNotFound",
     "evalue": "Couldn't find a tree builder with the features you requested: html5lib. Do you need to install a parser library?",
     "output_type": "error",
     "traceback": [
      "\u001b[0;31m---------------------------------------------------------------------------\u001b[0m",
      "\u001b[0;31mFeatureNotFound\u001b[0m                           Traceback (most recent call last)",
      "\u001b[1;32m/Users/lakshyasoni/Documents/GitHub/Vaikalpik/Book_Scraping/oreilly_scraper.ipynb Cell 3\u001b[0m in \u001b[0;36m<cell line: 4>\u001b[0;34m()\u001b[0m\n\u001b[1;32m      <a href='vscode-notebook-cell:/Users/lakshyasoni/Documents/GitHub/Vaikalpik/Book_Scraping/oreilly_scraper.ipynb#W2sZmlsZQ%3D%3D?line=1'>2</a>\u001b[0m \u001b[39m# filename = url.split('/')[5]\u001b[39;00m\n\u001b[1;32m      <a href='vscode-notebook-cell:/Users/lakshyasoni/Documents/GitHub/Vaikalpik/Book_Scraping/oreilly_scraper.ipynb#W2sZmlsZQ%3D%3D?line=2'>3</a>\u001b[0m r \u001b[39m=\u001b[39m requests\u001b[39m.\u001b[39mget(url)\n\u001b[0;32m----> <a href='vscode-notebook-cell:/Users/lakshyasoni/Documents/GitHub/Vaikalpik/Book_Scraping/oreilly_scraper.ipynb#W2sZmlsZQ%3D%3D?line=3'>4</a>\u001b[0m soup \u001b[39m=\u001b[39m BeautifulSoup(r\u001b[39m.\u001b[39;49mcontent, \u001b[39m'\u001b[39;49m\u001b[39mhtml5lib\u001b[39;49m\u001b[39m'\u001b[39;49m)\n\u001b[1;32m      <a href='vscode-notebook-cell:/Users/lakshyasoni/Documents/GitHub/Vaikalpik/Book_Scraping/oreilly_scraper.ipynb#W2sZmlsZQ%3D%3D?line=4'>5</a>\u001b[0m filename \u001b[39m=\u001b[39m soup\u001b[39m.\u001b[39mfind(\u001b[39m'\u001b[39m\u001b[39mh1\u001b[39m\u001b[39m'\u001b[39m, attrs\u001b[39m=\u001b[39m{\u001b[39m'\u001b[39m\u001b[39mclass\u001b[39m\u001b[39m'\u001b[39m: \u001b[39m'\u001b[39m\u001b[39mt-title\u001b[39m\u001b[39m'\u001b[39m})\u001b[39m.\u001b[39mtext\n\u001b[1;32m      <a href='vscode-notebook-cell:/Users/lakshyasoni/Documents/GitHub/Vaikalpik/Book_Scraping/oreilly_scraper.ipynb#W2sZmlsZQ%3D%3D?line=5'>6</a>\u001b[0m table_of_contents \u001b[39m=\u001b[39m get_table_of_contents(soup)\n",
      "File \u001b[0;32m~/opt/anaconda3/lib/python3.9/site-packages/bs4/__init__.py:248\u001b[0m, in \u001b[0;36mBeautifulSoup.__init__\u001b[0;34m(self, markup, features, builder, parse_only, from_encoding, exclude_encodings, element_classes, **kwargs)\u001b[0m\n\u001b[1;32m    246\u001b[0m     builder_class \u001b[39m=\u001b[39m builder_registry\u001b[39m.\u001b[39mlookup(\u001b[39m*\u001b[39mfeatures)\n\u001b[1;32m    247\u001b[0m     \u001b[39mif\u001b[39;00m builder_class \u001b[39mis\u001b[39;00m \u001b[39mNone\u001b[39;00m:\n\u001b[0;32m--> 248\u001b[0m         \u001b[39mraise\u001b[39;00m FeatureNotFound(\n\u001b[1;32m    249\u001b[0m             \u001b[39m\"\u001b[39m\u001b[39mCouldn\u001b[39m\u001b[39m'\u001b[39m\u001b[39mt find a tree builder with the features you \u001b[39m\u001b[39m\"\u001b[39m\n\u001b[1;32m    250\u001b[0m             \u001b[39m\"\u001b[39m\u001b[39mrequested: \u001b[39m\u001b[39m%s\u001b[39;00m\u001b[39m. Do you need to install a parser library?\u001b[39m\u001b[39m\"\u001b[39m\n\u001b[1;32m    251\u001b[0m             \u001b[39m%\u001b[39m \u001b[39m\"\u001b[39m\u001b[39m,\u001b[39m\u001b[39m\"\u001b[39m\u001b[39m.\u001b[39mjoin(features))\n\u001b[1;32m    253\u001b[0m \u001b[39m# At this point either we have a TreeBuilder instance in\u001b[39;00m\n\u001b[1;32m    254\u001b[0m \u001b[39m# builder, or we have a builder_class that we can instantiate\u001b[39;00m\n\u001b[1;32m    255\u001b[0m \u001b[39m# with the remaining **kwargs.\u001b[39;00m\n\u001b[1;32m    256\u001b[0m \u001b[39mif\u001b[39;00m builder \u001b[39mis\u001b[39;00m \u001b[39mNone\u001b[39;00m:\n",
      "\u001b[0;31mFeatureNotFound\u001b[0m: Couldn't find a tree builder with the features you requested: html5lib. Do you need to install a parser library?"
     ]
    }
   ],
   "source": [
    "url = 'https://learning.oreilly.com/library/view/-/9781118501696/'\n",
    "# filename = url.split('/')[5]\n",
    "r = requests.get(url)\n",
    "soup = BeautifulSoup(r.content, 'html5lib')\n",
    "filename = soup.find('h1', attrs={'class': 't-title'}).text\n",
    "table_of_contents = get_table_of_contents(soup)\n",
    "json_data = json.dumps(table_of_contents)\n",
    "\n",
    "output_dir = f'/Users/lakshyasoni/Documents/GitHub/Vaikalpik/Data/Books_Json/Oreilly/{filename}'\n",
    "if not os.path.exists(output_dir):\n",
    "    os.makedirs(output_dir)\n",
    "\n",
    "with open(os.path.join(output_dir, f'{filename}.json'), 'w') as f:\n",
    "    f.write(json_data)"
   ]
  },
  {
   "cell_type": "code",
   "execution_count": 3,
   "metadata": {},
   "outputs": [],
   "source": [
    "output_dir = f'/Users/lakshyasoni/Documents/GitHub/Vaikalpik/Data/Books_Json/Oreilly/'\n",
    "if not os.path.exists(output_dir):\n",
    "    os.makedirs(output_dir)"
   ]
  },
  {
   "cell_type": "code",
   "execution_count": null,
   "metadata": {},
   "outputs": [],
   "source": []
  }
 ],
 "metadata": {
  "kernelspec": {
   "display_name": "Python 3",
   "language": "python",
   "name": "python3"
  },
  "language_info": {
   "codemirror_mode": {
    "name": "ipython",
    "version": 3
   },
   "file_extension": ".py",
   "mimetype": "text/x-python",
   "name": "python",
   "nbconvert_exporter": "python",
   "pygments_lexer": "ipython3",
   "version": "3.9.12"
  },
  "orig_nbformat": 4
 },
 "nbformat": 4,
 "nbformat_minor": 2
}
